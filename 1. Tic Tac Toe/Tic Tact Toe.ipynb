{
 "cells": [
  {
   "cell_type": "code",
   "execution_count": 47,
   "metadata": {},
   "outputs": [
    {
     "name": "stdin",
     "output_type": "stream",
     "text": [
      "Full Name:  Fernanda\n",
      "Sign (X or O):  X\n",
      "Full Name:  Felipe\n",
      "Sign (X or O):  O\n"
     ]
    },
    {
     "name": "stdout",
     "output_type": "stream",
     "text": [
      "Fernanda Turn 0 Play\n"
     ]
    },
    {
     "name": "stdin",
     "output_type": "stream",
     "text": [
      "Columna:  2\n",
      "Row:  2\n"
     ]
    },
    {
     "name": "stdout",
     "output_type": "stream",
     "text": [
      "[[' ' ' ' ' ']\n",
      " [' ' 'X' ' ']\n",
      " [' ' ' ' ' ']]\n",
      "Felipe Turn 0 Play\n"
     ]
    },
    {
     "name": "stdin",
     "output_type": "stream",
     "text": [
      "Columna:  1\n",
      "Row:  2\n"
     ]
    },
    {
     "name": "stdout",
     "output_type": "stream",
     "text": [
      "[[' ' ' ' ' ']\n",
      " ['O' 'X' ' ']\n",
      " [' ' ' ' ' ']]\n",
      "Fernanda Turn 1 Play\n"
     ]
    },
    {
     "name": "stdin",
     "output_type": "stream",
     "text": [
      "Columna:  3\n",
      "Row:  1\n"
     ]
    },
    {
     "name": "stdout",
     "output_type": "stream",
     "text": [
      "[[' ' ' ' 'X']\n",
      " ['O' 'X' ' ']\n",
      " [' ' ' ' ' ']]\n",
      "Felipe Turn 1 Play\n"
     ]
    },
    {
     "name": "stdin",
     "output_type": "stream",
     "text": [
      "Columna:  1\n",
      "Row:  3\n"
     ]
    },
    {
     "name": "stdout",
     "output_type": "stream",
     "text": [
      "[[' ' ' ' 'X']\n",
      " ['O' 'X' ' ']\n",
      " ['O' ' ' ' ']]\n",
      "Fernanda Turn 2 Play\n"
     ]
    },
    {
     "name": "stdin",
     "output_type": "stream",
     "text": [
      "Columna:  1\n",
      "Row:  1\n"
     ]
    },
    {
     "name": "stdout",
     "output_type": "stream",
     "text": [
      "[['X' ' ' 'X']\n",
      " ['O' 'X' ' ']\n",
      " ['O' ' ' ' ']]\n",
      "Felipe Turn 2 Play\n"
     ]
    },
    {
     "name": "stdin",
     "output_type": "stream",
     "text": [
      "Columna:  2\n",
      "Row:  1\n"
     ]
    },
    {
     "name": "stdout",
     "output_type": "stream",
     "text": [
      "[['X' 'O' 'X']\n",
      " ['O' 'X' ' ']\n",
      " ['O' ' ' ' ']]\n",
      "Fernanda Turn 3 Play\n"
     ]
    },
    {
     "name": "stdin",
     "output_type": "stream",
     "text": [
      "Columna:  3\n",
      "Row:  3\n"
     ]
    },
    {
     "name": "stdout",
     "output_type": "stream",
     "text": [
      "[['X' 'O' 'X']\n",
      " ['O' 'X' ' ']\n",
      " ['O' ' ' 'X']]\n",
      "Congratulations: Fernanda\n"
     ]
    }
   ],
   "source": [
    "import numpy as np\n",
    "\n",
    "def evaluategame(board, sign): #Function to evaluate tic tac toe and analyze if a winner exist or not\n",
    "    aux=0\n",
    "    if board[0,0] == sign and board[1,1] ==sign and board[2,2] ==sign:\n",
    "        aux = 1\n",
    "    elif board[2,0] == sign and board[1,1] ==sign and board[0,2] ==sign:\n",
    "        aux = 1\n",
    "    for j in range(len(board)-1):\n",
    "        if board[j,0] == sign and board[j,1] ==sign and board[j,2] == sign:\n",
    "            aux = 1\n",
    "    for i in range(len(board)-1):\n",
    "        if board[0,i] == sign and board[1,i] ==sign and board[2,i] ==sign:\n",
    "            aux = 1\n",
    "    return aux   \n",
    "\n",
    "# Function that goes through the different turns of the game\n",
    "def play(user, turn):\n",
    "    aux2=0\n",
    "    print(user.name + \" Turn \" + str(turn) + \" Play\" )\n",
    "    while aux2==0:\n",
    "        col = int(input(\"Columna: \")) - 1\n",
    "        row = int(input(\"Row: \")) - 1\n",
    "        if col > 3 or row > 3:\n",
    "            print(\"Choose a number lower or equal than 3\")\n",
    "        else:\n",
    "            aux2=1\n",
    "            \n",
    "    if board[row,col] == \" \":\n",
    "        if user.number == 1:\n",
    "            board[row,col] = \"X\"\n",
    "            game = 1\n",
    "        else:\n",
    "            board[row,col] = \"O\"\n",
    "            game = 1\n",
    "    else:\n",
    "        print(\"Select an empty space\")\n",
    "        game = 0\n",
    "    \n",
    "    print(board)\n",
    "    return game\n",
    "# Creation Game user\n",
    "class User:\n",
    "    def __init__(self, full_name, number, sign):\n",
    "        self.name = full_name\n",
    "        self.number = number\n",
    "        self.sign = sign\n",
    "  \n",
    "\n",
    "user1 = User(input(\"Full Name: \"),1, input(\"Sign (X or O): \"))\n",
    "user2 = User(input(\"Full Name: \"),2, input(\"Sign (X or O): \"))\n",
    "\n",
    "board = np.array([[\" \",\" \",\" \"],[\" \",\" \",\" \"],[\" \",\" \",\" \"]], dtype=str)\n",
    "aux=0\n",
    "game = 0\n",
    "winner = 0\n",
    "\n",
    "\n",
    "#Starting the game, maximum turns 9\n",
    "for i in range (9):\n",
    "    if aux == 0:\n",
    "        #Player 1\n",
    "        game = 0\n",
    "        while game == 0:\n",
    "            game = play(user1,i)\n",
    "            aux = evaluategame(board, user1.sign)\n",
    "        if aux == 1:\n",
    "            winner = 1\n",
    "            game = 1\n",
    "            break\n",
    "        #Player 2\n",
    "        else:\n",
    "            game = 0\n",
    "            while game == 0:\n",
    "                game = play(user2,i)\n",
    "                aux = evaluategame(board, user2.sign)\n",
    "            if aux == 1:\n",
    "                winner = 2\n",
    "                game = 1\n",
    "                break\n",
    "\n",
    "if winner == 1:\n",
    "    print('Congratulations: ' + user1.name)\n",
    "elif winner == 2:\n",
    "    print('Congratulations: ' + user2.name)\n",
    "\n"
   ]
  }
 ],
 "metadata": {
  "kernelspec": {
   "display_name": "Python 3",
   "language": "python",
   "name": "python3"
  },
  "language_info": {
   "codemirror_mode": {
    "name": "ipython",
    "version": 3
   },
   "file_extension": ".py",
   "mimetype": "text/x-python",
   "name": "python",
   "nbconvert_exporter": "python",
   "pygments_lexer": "ipython3",
   "version": "3.8.3"
  }
 },
 "nbformat": 4,
 "nbformat_minor": 4
}
